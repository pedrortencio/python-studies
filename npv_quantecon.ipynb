{
 "cells": [
  {
   "cell_type": "code",
   "execution_count": 18,
   "id": "6462e1b4-7818-4672-9a10-63cbf5dd4aa1",
   "metadata": {},
   "outputs": [],
   "source": [
    "r = 0.05\n",
    "w_hs = 40_000\n",
    "c_college = 5_000\n",
    "w_college = 50_000\n",
    "#"
   ]
  },
  {
   "cell_type": "code",
   "execution_count": 52,
   "id": "a1509fdf-2387-4d47-bbaf-911e134dbb92",
   "metadata": {},
   "outputs": [
    {
     "name": "stdout",
     "output_type": "stream",
     "text": [
      "4831990.969699722 high school npv sum\n",
      "6039988.712124652 college npv wage\n",
      "21550.625 college npv cost\n",
      "329449.4327202218 college npv sum\n"
     ]
    }
   ],
   "source": [
    "soma = 0\n",
    "soma2 = 0\n",
    "soma3 = 0\n",
    "for t in range(0 , 40):\n",
    "    hs_npv_sum = w_hs*((1 + r)**t)\n",
    "    college_npv_w = w_college*((1 + r)**t)\n",
    "    soma = soma + hs_npv_sum\n",
    "    soma2 = soma2 + college_npv_w\n",
    "for t in range(0 , 4):\n",
    "    college_npv_cost = c_college*((1 + r)**t)\n",
    "    soma3 = soma3 + college_npv_cost\n",
    "print(soma, \"high school npv sum\")\n",
    "print(soma2, \"college npv wage\")\n",
    "print(soma3, \"college npv cost\")\n",
    "college_npv_sum = college_npv_w - college_npv_cost\n",
    "print(college_npv_sum, \"college npv sum\")"
   ]
  },
  {
   "cell_type": "code",
   "execution_count": 53,
   "id": "85e2623d-cf87-4138-9f5a-9bff2e41f403",
   "metadata": {},
   "outputs": [
    {
     "data": {
      "text/plain": [
       "True"
      ]
     },
     "execution_count": 53,
     "metadata": {},
     "output_type": "execute_result"
    }
   ],
   "source": [
    "college_npv_sum > hs_npv_sum"
   ]
  },
  {
   "cell_type": "code",
   "execution_count": 58,
   "id": "7d03cfdc-fa54-43e1-9bd1-2b58af776ac9",
   "metadata": {},
   "outputs": [],
   "source": [
    "import numpy as np"
   ]
  },
  {
   "cell_type": "code",
   "execution_count": 59,
   "id": "d49ad012-d1a3-48c7-a0a6-a02e7ad8f8d4",
   "metadata": {},
   "outputs": [
    {
     "name": "stdout",
     "output_type": "stream",
     "text": [
      "[[1 2 3]\n",
      " [4 5 6]\n",
      " [7 8 9]]\n"
     ]
    }
   ],
   "source": [
    "x1 = np.array([[1, 2, 3], [4, 5, 6], [7, 8, 9]])\n",
    "print(x1)"
   ]
  },
  {
   "cell_type": "code",
   "execution_count": 60,
   "id": "0dbbda7e-a858-4f75-a54b-6e69e524ffd8",
   "metadata": {},
   "outputs": [
    {
     "name": "stdout",
     "output_type": "stream",
     "text": [
      "[[[ 1  2  3]\n",
      "  [ 4  5  6]]\n",
      "\n",
      " [[10 20 30]\n",
      "  [40 50 60]]]\n"
     ]
    }
   ],
   "source": [
    "x2_list = [[[1, 2, 3], [4, 5, 6]], [[10, 20, 30], [40, 50, 60]]]\n",
    "x2 = np.array(x2_list)\n",
    "print(x2)"
   ]
  },
  {
   "cell_type": "code",
   "execution_count": 66,
   "id": "337a6022-5eee-40be-8ae1-4838f70e408f",
   "metadata": {},
   "outputs": [
    {
     "name": "stdout",
     "output_type": "stream",
     "text": [
      "60\n"
     ]
    }
   ],
   "source": [
    "print(x2[1, 1, 2])"
   ]
  },
  {
   "cell_type": "code",
   "execution_count": 68,
   "id": "30840018-8b49-4625-a7bf-db41fe86b99c",
   "metadata": {},
   "outputs": [
    {
     "name": "stdout",
     "output_type": "stream",
     "text": [
      "[[[ 4  5  6]\n",
      "  [40 50 60]\n",
      "  [40 50 60]]\n",
      "\n",
      " [[ 4  5  6]\n",
      "  [40 50 60]\n",
      "  [40 50 60]]]\n"
     ]
    }
   ],
   "source": [
    "print(x2[[(0, 1, 1), (0, 1, 1)], [(1, 1, 1), (1, 1, 1)]])"
   ]
  },
  {
   "cell_type": "code",
   "execution_count": 96,
   "id": "826c20cd-118a-4c39-aebb-2dcef81a37d8",
   "metadata": {},
   "outputs": [
    {
     "name": "stdout",
     "output_type": "stream",
     "text": [
      "[[ 5  6]\n",
      " [50 60]]\n"
     ]
    }
   ],
   "source": [
    "print(np.array((x2[0, 1, 1:3], x2[1, 1, 1:3])))"
   ]
  },
  {
   "cell_type": "code",
   "execution_count": 102,
   "id": "2071fd19-6fa9-4546-8b7f-85c978f34c62",
   "metadata": {},
   "outputs": [
    {
     "name": "stdout",
     "output_type": "stream",
     "text": [
      "[[[1. 1. 1. 1.]\n",
      "  [1. 1. 1. 1.]\n",
      "  [1. 1. 1. 1.]\n",
      "  [1. 1. 1. 1.]]\n",
      "\n",
      " [[1. 1. 1. 1.]\n",
      "  [1. 1. 1. 1.]\n",
      "  [1. 1. 1. 1.]\n",
      "  [1. 1. 1. 1.]]]\n",
      "[[[2. 2. 2. 2.]\n",
      "  [2. 2. 2. 2.]\n",
      "  [2. 2. 2. 2.]\n",
      "  [2. 2. 2. 2.]]\n",
      "\n",
      " [[2. 2. 2. 2.]\n",
      "  [2. 2. 2. 2.]\n",
      "  [2. 2. 2. 2.]\n",
      "  [2. 2. 2. 2.]]]\n"
     ]
    }
   ],
   "source": [
    "sizes = (2, 4, 4)\n",
    "x = np.zeros(sizes)\n",
    "y = np.ones(sizes)\n",
    "print(1+x)\n",
    "print(2*y)"
   ]
  },
  {
   "cell_type": "code",
   "execution_count": 106,
   "id": "14914440-9340-451e-94c4-05012de82765",
   "metadata": {},
   "outputs": [
    {
     "data": {
      "text/plain": [
       "[[[1, 2, 3], [4, 5, 6]],\n",
       " [[10, 20, 30], [40, 50, 60]],\n",
       " [[1, 2, 3], [4, 5, 6]],\n",
       " [[10, 20, 30], [40, 50, 60]],\n",
       " [[1, 2, 3], [4, 5, 6]],\n",
       " [[10, 20, 30], [40, 50, 60]]]"
      ]
     },
     "execution_count": 106,
     "metadata": {},
     "output_type": "execute_result"
    }
   ],
   "source": [
    "3*x2_list"
   ]
  },
  {
   "cell_type": "code",
   "execution_count": null,
   "id": "29d48bf5-6e50-4053-be96-1ec411713ec7",
   "metadata": {},
   "outputs": [],
   "source": []
  }
 ],
 "metadata": {
  "kernelspec": {
   "display_name": "Python 3 (ipykernel)",
   "language": "python",
   "name": "python3"
  },
  "language_info": {
   "codemirror_mode": {
    "name": "ipython",
    "version": 3
   },
   "file_extension": ".py",
   "mimetype": "text/x-python",
   "name": "python",
   "nbconvert_exporter": "python",
   "pygments_lexer": "ipython3",
   "version": "3.11.7"
  }
 },
 "nbformat": 4,
 "nbformat_minor": 5
}
